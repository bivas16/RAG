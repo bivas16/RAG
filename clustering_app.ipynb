{
 "cells": [
  {
   "cell_type": "code",
   "execution_count": 10,
   "metadata": {},
   "outputs": [],
   "source": [
    "#importing necessary libraries\n",
    "import glob\n",
    "import nltk\n",
    "import os\n",
    "import pandas as pd\n",
    "import numpy as np\n",
    "import json\n",
    "import gensim\n",
    "import tensorflow as tf\n",
    "\n",
    "#gensim libraries\n",
    "from gensim.utils import simple_preprocess\n",
    "from gensim.parsing.preprocessing import preprocess_documents\n",
    "from gensim.models.doc2vec import TaggedDocument, Doc2Vec\n",
    "from gensim.parsing.preprocessing import strip_tags, remove_stopwords, STOPWORDS\n",
    "from sklearn.metrics import f1_score\n",
    "from gensim.models import Word2Vec\n",
    "\n",
    "#sk-learn libraries\n",
    "from sklearn.cluster import KMeans\n",
    "\n",
    "#confg libraries\n",
    "pd.set_option('display.max_rows', None)\n",
    "pd.set_option('display.max_colwidth', None)"
   ]
  },
  {
   "cell_type": "code",
   "execution_count": 3,
   "metadata": {},
   "outputs": [],
   "source": [
    "df = pd.read_excel(\"abstract_excel.xlsx\") # reading excel file/csv file."
   ]
  },
  {
   "cell_type": "code",
   "execution_count": 4,
   "metadata": {},
   "outputs": [
    {
     "data": {
      "text/html": [
       "<div>\n",
       "<style scoped>\n",
       "    .dataframe tbody tr th:only-of-type {\n",
       "        vertical-align: middle;\n",
       "    }\n",
       "\n",
       "    .dataframe tbody tr th {\n",
       "        vertical-align: top;\n",
       "    }\n",
       "\n",
       "    .dataframe thead th {\n",
       "        text-align: right;\n",
       "    }\n",
       "</style>\n",
       "<table border=\"1\" class=\"dataframe\">\n",
       "  <thead>\n",
       "    <tr style=\"text-align: right;\">\n",
       "      <th></th>\n",
       "      <th>Title</th>\n",
       "      <th>Abstract</th>\n",
       "      <th>Filename</th>\n",
       "    </tr>\n",
       "  </thead>\n",
       "  <tbody>\n",
       "    <tr>\n",
       "      <th>0</th>\n",
       "      <td>One-stop shops for residential building energy renovation in the EU</td>\n",
       "      <td>This report is the second part of a Europe-wide survey and assessment of one-stop shops (OSS) for energy renovation of buildings. Based on the case studies of 63 OSS in the EU, we find that the approach has a potential to cover 5-6% of the renovation volume of 35 million buildings in 2030 set out by the Renovation Wave Strategy1,2 at low social costs, integrating private investments with client-friendly methods. The current level of activity of the European OSS market is estimated to be around 100 000 projects per year.\\nThe OSS can bridge the gap between a fragmented residential building sector, with a large heterogeneous set of households, and the construction supply side. They can help increase the actual renovation rate by supporting potential clients through the various steps of the decision-making process. Their success lies in part with their locally embedded focus, engagement with interested but not yet committed energy users/asset owners and ability to form strong relationships with clients. They can support the renovation journey from start to finish and can facilitate access to financing, occasionally offering better rates. While our analysis identifies several structural, legislative, financial, and information measures with a positive impact on OSS-enabled renovation projects, it is possible to enhance their contribution by reviewing specific policies that support or hinder their success. Although not typical of OSS in general, but with proper incentives, they can improve the average renovation depth in terms of energy performance level by adopting a holistic approach and, at the same time, they can reach out to vulnerable populations, such as tenants of social houses, thus contributing to the alleviation of energy poverty. Finally, OSS can contribute to the enhancement of communities and neighbourhoods. They help current tenants to improve their living conditions and thus stay in the area.</td>\n",
       "      <td>One-stop shops for residential building.pdf</td>\n",
       "    </tr>\n",
       "    <tr>\n",
       "      <th>1</th>\n",
       "      <td>HOW BUILDING INSULATION CAN REDUCE FOSSIL FUEL IMPORTS AND BOOST EU ENERGY SECURITY</td>\n",
       "      <td>This paper investigates how improving the energy performance of the building envelope in selected EU Member States would lower fossil fuel consumption, increase energy security and enable the growth of renewable heat. The study shows how improving insulation can reduce energy demand and drastically cut Russian oil and gas imports for heating in buildings. Investing in building renovation can reduce the use of fossil fuels for heating in buildings, reaching 44% in gas savings, save 45% of final energy demand and substantially contribute to securing the EU’s energy needs.</td>\n",
       "      <td>HOW BUILDING INSULATION CAN REDUCE.pdf</td>\n",
       "    </tr>\n",
       "    <tr>\n",
       "      <th>2</th>\n",
       "      <td>Impact assessment of the MEPS under discussion in the context of the EPBD</td>\n",
       "      <td>Minimum Energy Performance Standards (MEPS) are under discussion in the frame of the revision of the Energy Performance of Buildings Directive (EPBD) as a tool to trigger renovation of buildings in the European Union and reduce GHG emissions. To inform this discussion, Climact and BPIE modelled the impacts of MEPS schemes on the European building stock. This allows comparing the ambition of MEPS as originally proposed by the European Commission with two other scenarios: the REPowerEU plan and a scenario aligned with the EU climate and energy consumption reduction targets set by Fitfor552. The modelling was done in June 2022 and mainly accounts for the proposals from the EU Commission, REPowerEU and the EP rapporteur for the EPBD revision, Ciáran Cuffe.</td>\n",
       "      <td>Impact assessment of the MEPS.pdf</td>\n",
       "    </tr>\n",
       "    <tr>\n",
       "      <th>3</th>\n",
       "      <td>Recommendations for industrialised renovation</td>\n",
       "      <td>Action and innovation are needed to achieve the EU climate goal of full, societywide\\ndecarbonisation by 2050. The EU is committed to a 55% reduction of\\ngreenhouse-gas emissions by 2030.1 The 2022 REPowerEU plan puts increased\\nemphasis on decarbonisation, notably through reducing energy demand\\nand futureproofing European infrastructure. There is significant potential\\nfor decarbonisation and energy reductions in the existing European building\\nstock to contribute to all these pressing goals, but new techniques are needed.\\nUsing prefabricated building components produced at an industrial scale (a\\nprocess known as industrial prefabrication) is one promising solution.</td>\n",
       "      <td>Recommendations for industrialised renovation.pdf</td>\n",
       "    </tr>\n",
       "  </tbody>\n",
       "</table>\n",
       "</div>"
      ],
      "text/plain": [
       "                                                                                Title   \\\n",
       "0                  One-stop shops for residential building energy renovation in the EU   \n",
       "1  HOW BUILDING INSULATION CAN REDUCE FOSSIL FUEL IMPORTS AND BOOST EU ENERGY SECURITY   \n",
       "2            Impact assessment of the MEPS under discussion in the context of the EPBD   \n",
       "3                                        Recommendations for industrialised renovation   \n",
       "\n",
       "                                                                                                                                                                                                                                                                                                                                                                                                                                                                                                                                                                                                                                                                                                                                                                                                                                                                                                                                                                                                                                                                                                                                                                                                                                                                                                                                                                                                                                                                                                                                                                                                                                                                                                                                                                                                                                                                                                                                                                                                           Abstract  \\\n",
       "0  This report is the second part of a Europe-wide survey and assessment of one-stop shops (OSS) for energy renovation of buildings. Based on the case studies of 63 OSS in the EU, we find that the approach has a potential to cover 5-6% of the renovation volume of 35 million buildings in 2030 set out by the Renovation Wave Strategy1,2 at low social costs, integrating private investments with client-friendly methods. The current level of activity of the European OSS market is estimated to be around 100 000 projects per year.\\nThe OSS can bridge the gap between a fragmented residential building sector, with a large heterogeneous set of households, and the construction supply side. They can help increase the actual renovation rate by supporting potential clients through the various steps of the decision-making process. Their success lies in part with their locally embedded focus, engagement with interested but not yet committed energy users/asset owners and ability to form strong relationships with clients. They can support the renovation journey from start to finish and can facilitate access to financing, occasionally offering better rates. While our analysis identifies several structural, legislative, financial, and information measures with a positive impact on OSS-enabled renovation projects, it is possible to enhance their contribution by reviewing specific policies that support or hinder their success. Although not typical of OSS in general, but with proper incentives, they can improve the average renovation depth in terms of energy performance level by adopting a holistic approach and, at the same time, they can reach out to vulnerable populations, such as tenants of social houses, thus contributing to the alleviation of energy poverty. Finally, OSS can contribute to the enhancement of communities and neighbourhoods. They help current tenants to improve their living conditions and thus stay in the area.   \n",
       "1                                                                                                                                                                                                                                                                                                                                                                                                                                                                                                                                                                                                                                                                                                                                                                                                                                                                                                                                                                                                                                                                                                                                                                                                                                                                                                                                                                                                                  This paper investigates how improving the energy performance of the building envelope in selected EU Member States would lower fossil fuel consumption, increase energy security and enable the growth of renewable heat. The study shows how improving insulation can reduce energy demand and drastically cut Russian oil and gas imports for heating in buildings. Investing in building renovation can reduce the use of fossil fuels for heating in buildings, reaching 44% in gas savings, save 45% of final energy demand and substantially contribute to securing the EU’s energy needs.   \n",
       "2                                                                                                                                                                                                                                                                                                                                                                                                                                                                                                                                                                                                                                                                                                                                                                                                                                                                                                                                                                                                                                                                                                                                                                                                                        Minimum Energy Performance Standards (MEPS) are under discussion in the frame of the revision of the Energy Performance of Buildings Directive (EPBD) as a tool to trigger renovation of buildings in the European Union and reduce GHG emissions. To inform this discussion, Climact and BPIE modelled the impacts of MEPS schemes on the European building stock. This allows comparing the ambition of MEPS as originally proposed by the European Commission with two other scenarios: the REPowerEU plan and a scenario aligned with the EU climate and energy consumption reduction targets set by Fitfor552. The modelling was done in June 2022 and mainly accounts for the proposals from the EU Commission, REPowerEU and the EP rapporteur for the EPBD revision, Ciáran Cuffe.   \n",
       "3                                                                                                                                                                                                                                                                                                                                                                                                                                                                                                                                                                                                                                                                                                                                                                                                                                                                                                                                                                                                                                                                                                                                                                                                                                                                                                            Action and innovation are needed to achieve the EU climate goal of full, societywide\\ndecarbonisation by 2050. The EU is committed to a 55% reduction of\\ngreenhouse-gas emissions by 2030.1 The 2022 REPowerEU plan puts increased\\nemphasis on decarbonisation, notably through reducing energy demand\\nand futureproofing European infrastructure. There is significant potential\\nfor decarbonisation and energy reductions in the existing European building\\nstock to contribute to all these pressing goals, but new techniques are needed.\\nUsing prefabricated building components produced at an industrial scale (a\\nprocess known as industrial prefabrication) is one promising solution.   \n",
       "\n",
       "                                            Filename  \n",
       "0        One-stop shops for residential building.pdf  \n",
       "1             HOW BUILDING INSULATION CAN REDUCE.pdf  \n",
       "2                  Impact assessment of the MEPS.pdf  \n",
       "3  Recommendations for industrialised renovation.pdf  "
      ]
     },
     "execution_count": 4,
     "metadata": {},
     "output_type": "execute_result"
    }
   ],
   "source": [
    "df.head(4)"
   ]
  },
  {
   "cell_type": "code",
   "execution_count": 5,
   "metadata": {},
   "outputs": [],
   "source": [
    "## creating a list for storing the abstract and filename column \n",
    "abstract_list = df['Abstract']\n",
    "filename_list = df[\"Filename\"]"
   ]
  },
  {
   "cell_type": "code",
   "execution_count": 6,
   "metadata": {},
   "outputs": [],
   "source": [
    "#checking\n",
    "abstract_list = df['Abstract']"
   ]
  },
  {
   "attachments": {},
   "cell_type": "markdown",
   "metadata": {},
   "source": [
    "#### Preprocessing of the text  \n",
    "\n",
    "1. remove punctuation and stopwords.\n",
    "2. implement lemmatization\n",
    "3. unnecessary white space chr and space. +++"
   ]
  },
  {
   "cell_type": "code",
   "execution_count": 7,
   "metadata": {},
   "outputs": [],
   "source": [
    "#stop word removal \n",
    "import spacy\n",
    "nlp=spacy.load('en_core_web_sm')\n",
    "import string\n",
    "from spacy.lang.en.stop_words import STOP_WORDS"
   ]
  },
  {
   "cell_type": "code",
   "execution_count": 8,
   "metadata": {},
   "outputs": [],
   "source": [
    "punctuations = string.punctuation\n",
    "stop_words = list(STOP_WORDS)\n",
    "\n",
    "custom_stop_words = [\n",
    "    'doi', 'preprint', 'copyright', 'peer', 'reviewed', 'org', 'https', 'et', 'al', 'author', 'figure', \n",
    "    'rights', 'reserved', 'permission', 'used', 'using', 'license', 'fig', 'fig.', \n",
    "    'al.', 'Elsevier'\n",
    "]\n",
    "\n",
    "for w in custom_stop_words:\n",
    "    if w not in stop_words:\n",
    "        stop_words.append(w)"
   ]
  },
  {
   "cell_type": "code",
   "execution_count": 9,
   "metadata": {},
   "outputs": [],
   "source": [
    "def tokenize_corpus(abstract_text):\n",
    "    mytokens = nlp(abstract_text)\n",
    "    mytokens = [ word.lemma_.strip() if word.lemma_ != \"-PRON-\" else word for word in mytokens ]\n",
    "    mytokens = [ word for word in mytokens if word not in stop_words and word not in punctuations ]\n",
    "    mytokens = \" \".join([i for i in mytokens])\n",
    "    return mytokens"
   ]
  },
  {
   "cell_type": "code",
   "execution_count": 25,
   "metadata": {},
   "outputs": [],
   "source": [
    "df[\"processed_text\"] = df[\"Abstract\"].apply(tokenize_corpus)"
   ]
  },
  {
   "cell_type": "code",
   "execution_count": 27,
   "metadata": {},
   "outputs": [
    {
     "data": {
      "text/html": [
       "<div>\n",
       "<style scoped>\n",
       "    .dataframe tbody tr th:only-of-type {\n",
       "        vertical-align: middle;\n",
       "    }\n",
       "\n",
       "    .dataframe tbody tr th {\n",
       "        vertical-align: top;\n",
       "    }\n",
       "\n",
       "    .dataframe thead th {\n",
       "        text-align: right;\n",
       "    }\n",
       "</style>\n",
       "<table border=\"1\" class=\"dataframe\">\n",
       "  <thead>\n",
       "    <tr style=\"text-align: right;\">\n",
       "      <th></th>\n",
       "      <th>Title</th>\n",
       "      <th>Abstract</th>\n",
       "      <th>Filename</th>\n",
       "      <th>processed_text</th>\n",
       "    </tr>\n",
       "  </thead>\n",
       "  <tbody>\n",
       "    <tr>\n",
       "      <th>0</th>\n",
       "      <td>One-stop shops for residential building energy renovation in the EU</td>\n",
       "      <td>This report is the second part of a Europe-wide survey and assessment of one-stop shops (OSS) for energy renovation of buildings. Based on the case studies of 63 OSS in the EU, we find that the approach has a potential to cover 5-6% of the renovation volume of 35 million buildings in 2030 set out by the Renovation Wave Strategy1,2 at low social costs, integrating private investments with client-friendly methods. The current level of activity of the European OSS market is estimated to be around 100 000 projects per year.\\nThe OSS can bridge the gap between a fragmented residential building sector, with a large heterogeneous set of households, and the construction supply side. They can help increase the actual renovation rate by supporting potential clients through the various steps of the decision-making process. Their success lies in part with their locally embedded focus, engagement with interested but not yet committed energy users/asset owners and ability to form strong relationships with clients. They can support the renovation journey from start to finish and can facilitate access to financing, occasionally offering better rates. While our analysis identifies several structural, legislative, financial, and information measures with a positive impact on OSS-enabled renovation projects, it is possible to enhance their contribution by reviewing specific policies that support or hinder their success. Although not typical of OSS in general, but with proper incentives, they can improve the average renovation depth in terms of energy performance level by adopting a holistic approach and, at the same time, they can reach out to vulnerable populations, such as tenants of social houses, thus contributing to the alleviation of energy poverty. Finally, OSS can contribute to the enhancement of communities and neighbourhoods. They help current tenants to improve their living conditions and thus stay in the area.</td>\n",
       "      <td>One-stop shops for residential building.pdf</td>\n",
       "      <td>report second Europe wide survey assessment stop shop OSS energy renovation building base case study 63 OSS EU find approach potential cover 5 6 renovation volume 35 million building 2030 set Renovation Wave Strategy1,2 low social cost integrate private investment client friendly method current level activity European OSS market estimate 100 000 project year OSS bridge gap fragmented residential building sector large heterogeneous set household construction supply help increase actual renovation rate support potential client step decision process success lie locally embed focus engagement interested commit energy user asset owner ability form strong relationship client support renovation journey start finish facilitate access financing occasionally offer rate analysis identify structural legislative financial information measure positive impact oss enable renovation project possible enhance contribution review specific policy support hinder success typical OSS general proper incentive improve average renovation depth term energy performance level adopt holistic approach time reach vulnerable population tenant social house contribute alleviation energy poverty finally OSS contribute enhancement community neighbourhood help current tenant improve living condition stay area</td>\n",
       "    </tr>\n",
       "    <tr>\n",
       "      <th>1</th>\n",
       "      <td>HOW BUILDING INSULATION CAN REDUCE FOSSIL FUEL IMPORTS AND BOOST EU ENERGY SECURITY</td>\n",
       "      <td>This paper investigates how improving the energy performance of the building envelope in selected EU Member States would lower fossil fuel consumption, increase energy security and enable the growth of renewable heat. The study shows how improving insulation can reduce energy demand and drastically cut Russian oil and gas imports for heating in buildings. Investing in building renovation can reduce the use of fossil fuels for heating in buildings, reaching 44% in gas savings, save 45% of final energy demand and substantially contribute to securing the EU’s energy needs.</td>\n",
       "      <td>HOW BUILDING INSULATION CAN REDUCE.pdf</td>\n",
       "      <td>paper investigate improve energy performance building envelope select EU Member States lower fossil fuel consumption increase energy security enable growth renewable heat study improve insulation reduce energy demand drastically cut russian oil gas import heat building invest build renovation reduce use fossil fuel heat building reach 44 gas saving save 45 final energy demand substantially contribute secure EU energy need</td>\n",
       "    </tr>\n",
       "    <tr>\n",
       "      <th>2</th>\n",
       "      <td>Impact assessment of the MEPS under discussion in the context of the EPBD</td>\n",
       "      <td>Minimum Energy Performance Standards (MEPS) are under discussion in the frame of the revision of the Energy Performance of Buildings Directive (EPBD) as a tool to trigger renovation of buildings in the European Union and reduce GHG emissions. To inform this discussion, Climact and BPIE modelled the impacts of MEPS schemes on the European building stock. This allows comparing the ambition of MEPS as originally proposed by the European Commission with two other scenarios: the REPowerEU plan and a scenario aligned with the EU climate and energy consumption reduction targets set by Fitfor552. The modelling was done in June 2022 and mainly accounts for the proposals from the EU Commission, REPowerEU and the EP rapporteur for the EPBD revision, Ciáran Cuffe.</td>\n",
       "      <td>Impact assessment of the MEPS.pdf</td>\n",
       "      <td>Minimum Energy Performance Standards MEPS discussion frame revision Energy Performance Buildings Directive EPBD tool trigger renovation building European Union reduce GHG emission inform discussion Climact BPIE model impact MEPS scheme european building stock allow compare ambition MEPS originally propose European Commission scenario repowereu plan scenario align EU climate energy consumption reduction target set fitfor552 modelling June 2022 mainly account proposal EU Commission REPowerEU EP rapporteur EPBD revision Ciáran Cuffe</td>\n",
       "    </tr>\n",
       "  </tbody>\n",
       "</table>\n",
       "</div>"
      ],
      "text/plain": [
       "                                                                                Title   \\\n",
       "0                  One-stop shops for residential building energy renovation in the EU   \n",
       "1  HOW BUILDING INSULATION CAN REDUCE FOSSIL FUEL IMPORTS AND BOOST EU ENERGY SECURITY   \n",
       "2            Impact assessment of the MEPS under discussion in the context of the EPBD   \n",
       "\n",
       "                                                                                                                                                                                                                                                                                                                                                                                                                                                                                                                                                                                                                                                                                                                                                                                                                                                                                                                                                                                                                                                                                                                                                                                                                                                                                                                                                                                                                                                                                                                                                                                                                                                                                                                                                                                                                                                                                                                                                                                                           Abstract  \\\n",
       "0  This report is the second part of a Europe-wide survey and assessment of one-stop shops (OSS) for energy renovation of buildings. Based on the case studies of 63 OSS in the EU, we find that the approach has a potential to cover 5-6% of the renovation volume of 35 million buildings in 2030 set out by the Renovation Wave Strategy1,2 at low social costs, integrating private investments with client-friendly methods. The current level of activity of the European OSS market is estimated to be around 100 000 projects per year.\\nThe OSS can bridge the gap between a fragmented residential building sector, with a large heterogeneous set of households, and the construction supply side. They can help increase the actual renovation rate by supporting potential clients through the various steps of the decision-making process. Their success lies in part with their locally embedded focus, engagement with interested but not yet committed energy users/asset owners and ability to form strong relationships with clients. They can support the renovation journey from start to finish and can facilitate access to financing, occasionally offering better rates. While our analysis identifies several structural, legislative, financial, and information measures with a positive impact on OSS-enabled renovation projects, it is possible to enhance their contribution by reviewing specific policies that support or hinder their success. Although not typical of OSS in general, but with proper incentives, they can improve the average renovation depth in terms of energy performance level by adopting a holistic approach and, at the same time, they can reach out to vulnerable populations, such as tenants of social houses, thus contributing to the alleviation of energy poverty. Finally, OSS can contribute to the enhancement of communities and neighbourhoods. They help current tenants to improve their living conditions and thus stay in the area.   \n",
       "1                                                                                                                                                                                                                                                                                                                                                                                                                                                                                                                                                                                                                                                                                                                                                                                                                                                                                                                                                                                                                                                                                                                                                                                                                                                                                                                                                                                                                  This paper investigates how improving the energy performance of the building envelope in selected EU Member States would lower fossil fuel consumption, increase energy security and enable the growth of renewable heat. The study shows how improving insulation can reduce energy demand and drastically cut Russian oil and gas imports for heating in buildings. Investing in building renovation can reduce the use of fossil fuels for heating in buildings, reaching 44% in gas savings, save 45% of final energy demand and substantially contribute to securing the EU’s energy needs.   \n",
       "2                                                                                                                                                                                                                                                                                                                                                                                                                                                                                                                                                                                                                                                                                                                                                                                                                                                                                                                                                                                                                                                                                                                                                                                                                        Minimum Energy Performance Standards (MEPS) are under discussion in the frame of the revision of the Energy Performance of Buildings Directive (EPBD) as a tool to trigger renovation of buildings in the European Union and reduce GHG emissions. To inform this discussion, Climact and BPIE modelled the impacts of MEPS schemes on the European building stock. This allows comparing the ambition of MEPS as originally proposed by the European Commission with two other scenarios: the REPowerEU plan and a scenario aligned with the EU climate and energy consumption reduction targets set by Fitfor552. The modelling was done in June 2022 and mainly accounts for the proposals from the EU Commission, REPowerEU and the EP rapporteur for the EPBD revision, Ciáran Cuffe.   \n",
       "\n",
       "                                      Filename  \\\n",
       "0  One-stop shops for residential building.pdf   \n",
       "1       HOW BUILDING INSULATION CAN REDUCE.pdf   \n",
       "2            Impact assessment of the MEPS.pdf   \n",
       "\n",
       "                                                                                                                                                                                                                                                                                                                                                                                                                                                                                                                                                                                                                                                                                                                                                                                                                                                                                                                                                                                                                                                                                                                                                                                                                                                                                                                                processed_text  \n",
       "0  report second Europe wide survey assessment stop shop OSS energy renovation building base case study 63 OSS EU find approach potential cover 5 6 renovation volume 35 million building 2030 set Renovation Wave Strategy1,2 low social cost integrate private investment client friendly method current level activity European OSS market estimate 100 000 project year OSS bridge gap fragmented residential building sector large heterogeneous set household construction supply help increase actual renovation rate support potential client step decision process success lie locally embed focus engagement interested commit energy user asset owner ability form strong relationship client support renovation journey start finish facilitate access financing occasionally offer rate analysis identify structural legislative financial information measure positive impact oss enable renovation project possible enhance contribution review specific policy support hinder success typical OSS general proper incentive improve average renovation depth term energy performance level adopt holistic approach time reach vulnerable population tenant social house contribute alleviation energy poverty finally OSS contribute enhancement community neighbourhood help current tenant improve living condition stay area  \n",
       "1                                                                                                                                                                                                                                                                                                                                                                                                                                                                                                                                                                                                                                                                                                                                                                                                                                                                                                    paper investigate improve energy performance building envelope select EU Member States lower fossil fuel consumption increase energy security enable growth renewable heat study improve insulation reduce energy demand drastically cut russian oil gas import heat building invest build renovation reduce use fossil fuel heat building reach 44 gas saving save 45 final energy demand substantially contribute secure EU energy need  \n",
       "2                                                                                                                                                                                                                                                                                                                                                                                                                                                                                                                                                                                                                                                                                                                                                                                      Minimum Energy Performance Standards MEPS discussion frame revision Energy Performance Buildings Directive EPBD tool trigger renovation building European Union reduce GHG emission inform discussion Climact BPIE model impact MEPS scheme european building stock allow compare ambition MEPS originally propose European Commission scenario repowereu plan scenario align EU climate energy consumption reduction target set fitfor552 modelling June 2022 mainly account proposal EU Commission REPowerEU EP rapporteur EPBD revision Ciáran Cuffe  "
      ]
     },
     "execution_count": 27,
     "metadata": {},
     "output_type": "execute_result"
    }
   ],
   "source": [
    "df.head(3)"
   ]
  },
  {
   "attachments": {},
   "cell_type": "markdown",
   "metadata": {},
   "source": [
    "#### Applying Word-Embedding"
   ]
  },
  {
   "cell_type": "code",
   "execution_count": 28,
   "metadata": {},
   "outputs": [],
   "source": [
    "from sklearn.feature_extraction.text import TfidfVectorizer\n",
    "def vectorize(text, maxx_features):\n",
    "    \n",
    "    vectorizer = TfidfVectorizer(max_features=maxx_features)\n",
    "    X = vectorizer.fit_transform(text)\n",
    "    #print(vectorizer.get_feature_names_out())\n",
    "    return X"
   ]
  },
  {
   "cell_type": "code",
   "execution_count": 29,
   "metadata": {},
   "outputs": [],
   "source": [
    "pro_text = df['processed_text'].values\n",
    "max_features = 2**8\n",
    "\n",
    "X = vectorize(pro_text, max_features)"
   ]
  },
  {
   "cell_type": "code",
   "execution_count": 31,
   "metadata": {},
   "outputs": [
    {
     "name": "stdout",
     "output_type": "stream",
     "text": [
      "  (0, 15)\t0.08877182185389655\n",
      "  (0, 39)\t0.08759075603194663\n",
      "  (0, 44)\t0.18084051002366922\n",
      "  (0, 101)\t0.10824653290300298\n",
      "  (0, 183)\t0.0959695919226806\n",
      "  (0, 239)\t0.07918778832120299\n",
      "  (0, 163)\t0.054690348929732624\n",
      "  (0, 236)\t0.08228044665206914\n",
      "  (0, 19)\t0.10402624043691523\n",
      "  (0, 108)\t0.15663457171321968\n",
      "  (0, 167)\t0.07306727072796335\n",
      "  (0, 219)\t0.09861229498241474\n",
      "  (0, 201)\t0.08395116671609551\n",
      "  (0, 168)\t0.09171698208155171\n",
      "  (0, 72)\t0.0954671289176706\n",
      "  (0, 104)\t0.06005898529407443\n",
      "  (0, 135)\t0.07506156227159791\n",
      "  (0, 116)\t0.0935352002487891\n",
      "  (0, 103)\t0.07610914713457896\n",
      "  (0, 10)\t0.06636569384699177\n",
      "  (0, 247)\t0.09916908110827477\n",
      "  (0, 87)\t0.08038797000763628\n",
      "  (0, 173)\t0.0813197228271735\n",
      "  (0, 52)\t0.08682773469815665\n",
      "  (0, 228)\t0.23409745168885965\n",
      "  :\t:\n",
      "  (499, 216)\t0.1612023290246324\n",
      "  (499, 211)\t0.08838353016870806\n",
      "  (499, 96)\t0.10496249461223313\n",
      "  (499, 2)\t0.07170811875664732\n",
      "  (499, 232)\t0.08975641405952066\n",
      "  (499, 71)\t0.13491158887077512\n",
      "  (499, 246)\t0.04744583192746147\n",
      "  (499, 91)\t0.09505199351427916\n",
      "  (499, 185)\t0.06745579443538756\n",
      "  (499, 117)\t0.10182418003688747\n",
      "  (499, 190)\t0.16619671154696725\n",
      "  (499, 42)\t0.06951547069257402\n",
      "  (499, 160)\t0.06856374870436026\n",
      "  (499, 39)\t0.09630272076175214\n",
      "  (499, 101)\t0.47605186226654544\n",
      "  (499, 10)\t0.07296656830288967\n",
      "  (499, 41)\t0.08252734647873221\n",
      "  (499, 207)\t0.07586448990820308\n",
      "  (499, 196)\t0.07802612541577356\n",
      "  (499, 254)\t0.08548349303966724\n",
      "  (499, 49)\t0.08548349303966724\n",
      "  (499, 47)\t0.07233151704140925\n",
      "  (499, 226)\t0.056521148124729165\n",
      "  (499, 24)\t0.08074508444625471\n",
      "  (499, 74)\t0.4864400324377356\n"
     ]
    }
   ],
   "source": [
    "print(X)"
   ]
  },
  {
   "attachments": {},
   "cell_type": "markdown",
   "metadata": {},
   "source": [
    "#### Application of clustering algorithm"
   ]
  },
  {
   "cell_type": "code",
   "execution_count": null,
   "metadata": {},
   "outputs": [],
   "source": [
    "from sklearn import metrics\n",
    "from scipy.spatial.distance import cdist\n",
    "\n",
    "# run kmeans with many different k\n",
    "distortions = []\n",
    "K = range(2, 20)\n",
    "for k in K:\n",
    "    k_means = KMeans(n_clusters=k, random_state=42).fit(X)\n",
    "    k_means.fit(X)\n",
    "    distortions.append(sum(np.min(cdist(X.toarray(), k_means.cluster_centers_, 'euclidean'), axis=1)) / X.shape[0])"
   ]
  },
  {
   "cell_type": "code",
   "execution_count": 11,
   "metadata": {},
   "outputs": [],
   "source": [
    "## perform elbow method\n",
    "## decide on number of cluster based on elbow method \n",
    "## try to visulaize in the graph \n",
    "## vectorize the data \n",
    "## perform topic modeling\n",
    "## append the keywords to df"
   ]
  },
  {
   "cell_type": "code",
   "execution_count": null,
   "metadata": {},
   "outputs": [],
   "source": []
  },
  {
   "cell_type": "code",
   "execution_count": null,
   "metadata": {},
   "outputs": [],
   "source": []
  },
  {
   "cell_type": "code",
   "execution_count": null,
   "metadata": {},
   "outputs": [],
   "source": []
  },
  {
   "cell_type": "code",
   "execution_count": null,
   "metadata": {},
   "outputs": [],
   "source": []
  },
  {
   "cell_type": "code",
   "execution_count": null,
   "metadata": {},
   "outputs": [],
   "source": []
  },
  {
   "cell_type": "code",
   "execution_count": null,
   "metadata": {},
   "outputs": [],
   "source": []
  },
  {
   "cell_type": "code",
   "execution_count": null,
   "metadata": {},
   "outputs": [],
   "source": []
  },
  {
   "cell_type": "code",
   "execution_count": null,
   "metadata": {},
   "outputs": [],
   "source": []
  },
  {
   "cell_type": "code",
   "execution_count": null,
   "metadata": {},
   "outputs": [],
   "source": []
  },
  {
   "cell_type": "code",
   "execution_count": null,
   "metadata": {},
   "outputs": [],
   "source": []
  },
  {
   "cell_type": "code",
   "execution_count": null,
   "metadata": {},
   "outputs": [],
   "source": []
  },
  {
   "cell_type": "code",
   "execution_count": null,
   "metadata": {},
   "outputs": [],
   "source": []
  },
  {
   "cell_type": "code",
   "execution_count": null,
   "metadata": {},
   "outputs": [],
   "source": []
  },
  {
   "cell_type": "code",
   "execution_count": null,
   "metadata": {},
   "outputs": [],
   "source": []
  }
 ],
 "metadata": {
  "kernelspec": {
   "display_name": "tf",
   "language": "python",
   "name": "python3"
  },
  "language_info": {
   "codemirror_mode": {
    "name": "ipython",
    "version": 3
   },
   "file_extension": ".py",
   "mimetype": "text/x-python",
   "name": "python",
   "nbconvert_exporter": "python",
   "pygments_lexer": "ipython3",
   "version": "3.8.13"
  },
  "orig_nbformat": 4
 },
 "nbformat": 4,
 "nbformat_minor": 2
}
